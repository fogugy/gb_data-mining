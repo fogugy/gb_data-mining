{
 "cells": [
  {
   "cell_type": "code",
   "execution_count": 261,
   "metadata": {},
   "outputs": [],
   "source": [
    "import pandas as pd"
   ]
  },
  {
   "cell_type": "code",
   "execution_count": 262,
   "metadata": {},
   "outputs": [
    {
     "data": {
      "text/html": [
       "<div>\n",
       "<style scoped>\n",
       "    .dataframe tbody tr th:only-of-type {\n",
       "        vertical-align: middle;\n",
       "    }\n",
       "\n",
       "    .dataframe tbody tr th {\n",
       "        vertical-align: top;\n",
       "    }\n",
       "\n",
       "    .dataframe thead th {\n",
       "        text-align: right;\n",
       "    }\n",
       "</style>\n",
       "<table border=\"1\" class=\"dataframe\">\n",
       "  <thead>\n",
       "    <tr style=\"text-align: right;\">\n",
       "      <th></th>\n",
       "      <th>position</th>\n",
       "      <th>offer</th>\n",
       "      <th>link</th>\n",
       "    </tr>\n",
       "  </thead>\n",
       "  <tbody>\n",
       "    <tr>\n",
       "      <th>0</th>\n",
       "      <td>Senior Full Stack Developer .NET</td>\n",
       "      <td>NaN</td>\n",
       "      <td>https://saratov.hh.ru/vacancy/33100559?query=%...</td>\n",
       "    </tr>\n",
       "    <tr>\n",
       "      <th>1</th>\n",
       "      <td>C#.Net Developer</td>\n",
       "      <td>1 500-3 000 USD</td>\n",
       "      <td>https://saratov.hh.ru/vacancy/33044630?query=%...</td>\n",
       "    </tr>\n",
       "    <tr>\n",
       "      <th>2</th>\n",
       "      <td>Frontend – программист / Разработчик ASP. NET</td>\n",
       "      <td>от 150 000 руб.</td>\n",
       "      <td>https://saratov.hh.ru/vacancy/32967994?query=%...</td>\n",
       "    </tr>\n",
       "    <tr>\n",
       "      <th>3</th>\n",
       "      <td>Full Stack разработчик</td>\n",
       "      <td>80 000-120 000 руб.</td>\n",
       "      <td>https://saratov.hh.ru/vacancy/32163609?query=%...</td>\n",
       "    </tr>\n",
       "    <tr>\n",
       "      <th>4</th>\n",
       "      <td>Программист C#</td>\n",
       "      <td>до 200 000 руб.</td>\n",
       "      <td>https://saratov.hh.ru/vacancy/32883273?query=%...</td>\n",
       "    </tr>\n",
       "  </tbody>\n",
       "</table>\n",
       "</div>"
      ],
      "text/plain": [
       "                                        position                offer  \\\n",
       "0               Senior Full Stack Developer .NET                  NaN   \n",
       "1                               C#.Net Developer      1 500-3 000 USD   \n",
       "2  Frontend – программист / Разработчик ASP. NET      от 150 000 руб.   \n",
       "3                         Full Stack разработчик  80 000-120 000 руб.   \n",
       "4                                 Программист C#      до 200 000 руб.   \n",
       "\n",
       "                                                link  \n",
       "0  https://saratov.hh.ru/vacancy/33100559?query=%...  \n",
       "1  https://saratov.hh.ru/vacancy/33044630?query=%...  \n",
       "2  https://saratov.hh.ru/vacancy/32967994?query=%...  \n",
       "3  https://saratov.hh.ru/vacancy/32163609?query=%...  \n",
       "4  https://saratov.hh.ru/vacancy/32883273?query=%...  "
      ]
     },
     "execution_count": 262,
     "metadata": {},
     "output_type": "execute_result"
    }
   ],
   "source": [
    "df1 = pd.read_csv('./hh.csv')\n",
    "df1.head()"
   ]
  },
  {
   "cell_type": "code",
   "execution_count": 263,
   "metadata": {},
   "outputs": [
    {
     "data": {
      "text/html": [
       "<div>\n",
       "<style scoped>\n",
       "    .dataframe tbody tr th:only-of-type {\n",
       "        vertical-align: middle;\n",
       "    }\n",
       "\n",
       "    .dataframe tbody tr th {\n",
       "        vertical-align: top;\n",
       "    }\n",
       "\n",
       "    .dataframe thead th {\n",
       "        text-align: right;\n",
       "    }\n",
       "</style>\n",
       "<table border=\"1\" class=\"dataframe\">\n",
       "  <thead>\n",
       "    <tr style=\"text-align: right;\">\n",
       "      <th></th>\n",
       "      <th>position</th>\n",
       "      <th>link</th>\n",
       "      <th>offer_from</th>\n",
       "      <th>offer_to</th>\n",
       "    </tr>\n",
       "  </thead>\n",
       "  <tbody>\n",
       "    <tr>\n",
       "      <th>0</th>\n",
       "      <td>Senior Full Stack Developer .NET</td>\n",
       "      <td>https://saratov.hh.ru/vacancy/33100559?query=%...</td>\n",
       "      <td>0</td>\n",
       "      <td>0</td>\n",
       "    </tr>\n",
       "    <tr>\n",
       "      <th>1</th>\n",
       "      <td>C#.Net Developer</td>\n",
       "      <td>https://saratov.hh.ru/vacancy/33044630?query=%...</td>\n",
       "      <td>97500</td>\n",
       "      <td>195000</td>\n",
       "    </tr>\n",
       "    <tr>\n",
       "      <th>2</th>\n",
       "      <td>Frontend – программист / Разработчик ASP. NET</td>\n",
       "      <td>https://saratov.hh.ru/vacancy/32967994?query=%...</td>\n",
       "      <td>150000</td>\n",
       "      <td>0</td>\n",
       "    </tr>\n",
       "    <tr>\n",
       "      <th>3</th>\n",
       "      <td>Full Stack разработчик</td>\n",
       "      <td>https://saratov.hh.ru/vacancy/32163609?query=%...</td>\n",
       "      <td>80000</td>\n",
       "      <td>120000</td>\n",
       "    </tr>\n",
       "    <tr>\n",
       "      <th>4</th>\n",
       "      <td>Программист C#</td>\n",
       "      <td>https://saratov.hh.ru/vacancy/32883273?query=%...</td>\n",
       "      <td>200000</td>\n",
       "      <td>0</td>\n",
       "    </tr>\n",
       "  </tbody>\n",
       "</table>\n",
       "</div>"
      ],
      "text/plain": [
       "                                        position  \\\n",
       "0               Senior Full Stack Developer .NET   \n",
       "1                               C#.Net Developer   \n",
       "2  Frontend – программист / Разработчик ASP. NET   \n",
       "3                         Full Stack разработчик   \n",
       "4                                 Программист C#   \n",
       "\n",
       "                                                link  offer_from  offer_to  \n",
       "0  https://saratov.hh.ru/vacancy/33100559?query=%...           0         0  \n",
       "1  https://saratov.hh.ru/vacancy/33044630?query=%...       97500    195000  \n",
       "2  https://saratov.hh.ru/vacancy/32967994?query=%...      150000         0  \n",
       "3  https://saratov.hh.ru/vacancy/32163609?query=%...       80000    120000  \n",
       "4  https://saratov.hh.ru/vacancy/32883273?query=%...      200000         0  "
      ]
     },
     "execution_count": 263,
     "metadata": {},
     "output_type": "execute_result"
    }
   ],
   "source": [
    "df2 = pd.read_csv('./parsed.csv')\n",
    "df2.head()"
   ]
  },
  {
   "cell_type": "code",
   "execution_count": null,
   "metadata": {},
   "outputs": [],
   "source": []
  }
 ],
 "metadata": {
  "kernelspec": {
   "display_name": "Python 3",
   "language": "python",
   "name": "python3"
  },
  "language_info": {
   "codemirror_mode": {
    "name": "ipython",
    "version": 3
   },
   "file_extension": ".py",
   "mimetype": "text/x-python",
   "name": "python",
   "nbconvert_exporter": "python",
   "pygments_lexer": "ipython3",
   "version": "3.7.3"
  }
 },
 "nbformat": 4,
 "nbformat_minor": 2
}
