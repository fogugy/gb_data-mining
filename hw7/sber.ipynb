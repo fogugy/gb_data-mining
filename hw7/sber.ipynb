{
 "cells": [
  {
   "cell_type": "code",
   "execution_count": 16,
   "metadata": {},
   "outputs": [],
   "source": [
    "import pandas as pd\n",
    "import matplotlib.pyplot as plt\n",
    "from pandas.plotting import register_matplotlib_converters\n",
    "%matplotlib inline\n",
    "register_matplotlib_converters()"
   ]
  },
  {
   "cell_type": "code",
   "execution_count": 17,
   "metadata": {},
   "outputs": [],
   "source": [
    "df = pd.read_csv('opendata.csv', encoding = \"cp1251\", parse_dates=['date'])"
   ]
  },
  {
   "cell_type": "code",
   "execution_count": 18,
   "metadata": {
    "scrolled": true
   },
   "outputs": [
    {
     "data": {
      "text/html": [
       "<div>\n",
       "<style scoped>\n",
       "    .dataframe tbody tr th:only-of-type {\n",
       "        vertical-align: middle;\n",
       "    }\n",
       "\n",
       "    .dataframe tbody tr th {\n",
       "        vertical-align: top;\n",
       "    }\n",
       "\n",
       "    .dataframe thead th {\n",
       "        text-align: right;\n",
       "    }\n",
       "</style>\n",
       "<table border=\"1\" class=\"dataframe\">\n",
       "  <thead>\n",
       "    <tr style=\"text-align: right;\">\n",
       "      <th></th>\n",
       "      <th>name</th>\n",
       "      <th>region</th>\n",
       "      <th>date</th>\n",
       "      <th>value</th>\n",
       "    </tr>\n",
       "  </thead>\n",
       "  <tbody>\n",
       "    <tr>\n",
       "      <th>0</th>\n",
       "      <td>Количество заявок на потребительские кредиты</td>\n",
       "      <td>Россия</td>\n",
       "      <td>2013-01-15</td>\n",
       "      <td>571147</td>\n",
       "    </tr>\n",
       "    <tr>\n",
       "      <th>1</th>\n",
       "      <td>Количество заявок на потребительские кредиты</td>\n",
       "      <td>Россия</td>\n",
       "      <td>2013-02-15</td>\n",
       "      <td>504508</td>\n",
       "    </tr>\n",
       "    <tr>\n",
       "      <th>2</th>\n",
       "      <td>Количество заявок на потребительские кредиты</td>\n",
       "      <td>Россия</td>\n",
       "      <td>2013-03-15</td>\n",
       "      <td>628803</td>\n",
       "    </tr>\n",
       "    <tr>\n",
       "      <th>3</th>\n",
       "      <td>Количество заявок на потребительские кредиты</td>\n",
       "      <td>Россия</td>\n",
       "      <td>2013-04-15</td>\n",
       "      <td>836054</td>\n",
       "    </tr>\n",
       "    <tr>\n",
       "      <th>4</th>\n",
       "      <td>Количество заявок на потребительские кредиты</td>\n",
       "      <td>Россия</td>\n",
       "      <td>2013-05-15</td>\n",
       "      <td>867235</td>\n",
       "    </tr>\n",
       "  </tbody>\n",
       "</table>\n",
       "</div>"
      ],
      "text/plain": [
       "                                           name  region       date   value\n",
       "0  Количество заявок на потребительские кредиты  Россия 2013-01-15  571147\n",
       "1  Количество заявок на потребительские кредиты  Россия 2013-02-15  504508\n",
       "2  Количество заявок на потребительские кредиты  Россия 2013-03-15  628803\n",
       "3  Количество заявок на потребительские кредиты  Россия 2013-04-15  836054\n",
       "4  Количество заявок на потребительские кредиты  Россия 2013-05-15  867235"
      ]
     },
     "execution_count": 18,
     "metadata": {},
     "output_type": "execute_result"
    }
   ],
   "source": [
    "df.head()"
   ]
  },
  {
   "cell_type": "code",
   "execution_count": 19,
   "metadata": {},
   "outputs": [
    {
     "name": "stdout",
     "output_type": "stream",
     "text": [
      "<class 'pandas.core.frame.DataFrame'>\n",
      "RangeIndex: 74842 entries, 0 to 74841\n",
      "Data columns (total 4 columns):\n",
      "name      74842 non-null object\n",
      "region    74842 non-null object\n",
      "date      74842 non-null datetime64[ns]\n",
      "value     74842 non-null int64\n",
      "dtypes: datetime64[ns](1), int64(1), object(2)\n",
      "memory usage: 2.3+ MB\n"
     ]
    }
   ],
   "source": [
    "df.info()"
   ]
  },
  {
   "cell_type": "markdown",
   "metadata": {},
   "source": [
    "#### Функция-рисовалка среза"
   ]
  },
  {
   "cell_type": "code",
   "execution_count": 20,
   "metadata": {},
   "outputs": [
    {
     "data": {
      "image/png": "[encoded data removed]",
      "text/plain": [
       "<Figure size 1008x432 with 1 Axes>"
      ]
     },
     "metadata": {
      "needs_background": "light"
     },
     "output_type": "display_data"
    }
   ],
   "source": [
    "def show_slice(name, region, from_, to_):\n",
    "    df_slice = pd.DataFrame(columns=['date', 'value'])\n",
    "    df_slice = df[(df['name'] == name) & (df['region'] == region) & (df['date'] >= from_) & (df['date'] <= to_)]\n",
    "    \n",
    "    plt.figure(figsize=(14,6))\n",
    "    plt.plot(df_slice['date'], df_slice['value'])\n",
    "    \n",
    "show_slice('Средняя зарплата', 'Саратовская область', '01-01-2014', '01-01-2017')"
   ]
  },
  {
   "cell_type": "markdown",
   "metadata": {},
   "source": [
    "#### Памятка: списки типов отчетов и регионов"
   ]
  },
  {
   "cell_type": "code",
   "execution_count": 21,
   "metadata": {
    "scrolled": true
   },
   "outputs": [
    {
     "data": {
      "text/plain": [
       "{'В среднем депозитов в руб. на человека',\n",
       " 'В среднем руб. на текущем счете на человека',\n",
       " 'Количество заявок на ипотечные кредиты',\n",
       " 'Количество заявок на потребительские кредиты',\n",
       " 'Количество новых депозитов',\n",
       " 'Средние расходы по картам',\n",
       " 'Средние траты в ресторане',\n",
       " 'Средние траты в ресторане фастфуд',\n",
       " 'Средний чек в формате Ресторан',\n",
       " 'Средний чек в формате Фастфуд',\n",
       " 'Средняя зарплата',\n",
       " 'Средняя пенсия',\n",
       " 'Средняя сумма заявки на ипотечный кредит',\n",
       " 'Средняя сумма заявки на потребительский кредит',\n",
       " 'Средняя сумма нового депозита'}"
      ]
     },
     "execution_count": 21,
     "metadata": {},
     "output_type": "execute_result"
    }
   ],
   "source": [
    "set(df.name)"
   ]
  },
  {
   "cell_type": "code",
   "execution_count": 22,
   "metadata": {},
   "outputs": [
    {
     "data": {
      "text/plain": [
       "{'Алтайский край',\n",
       " 'Амурская область',\n",
       " 'Архангельская область',\n",
       " 'Астраханская область',\n",
       " 'Белгородская область',\n",
       " 'Брянская область',\n",
       " 'Владимирская область',\n",
       " 'Волгоградская область',\n",
       " 'Вологодская область',\n",
       " 'Воронежская область',\n",
       " 'Еврейская автономная область',\n",
       " 'Забайкальский край',\n",
       " 'Ивановская область',\n",
       " 'Иркутская область',\n",
       " 'Кабардино-Балкарская Республика',\n",
       " 'Калининградская область',\n",
       " 'Калужская область',\n",
       " 'Камчатский край',\n",
       " 'Кемеровская область',\n",
       " 'Кировская область',\n",
       " 'Костромская область',\n",
       " 'Краснодарский край',\n",
       " 'Красноярский край',\n",
       " 'Курганская область',\n",
       " 'Курская область',\n",
       " 'Ленинградская область',\n",
       " 'Липецкая область',\n",
       " 'Магаданская область',\n",
       " 'Москва',\n",
       " 'Московская область',\n",
       " 'Мурманская область',\n",
       " 'Ненецкий автономный округ',\n",
       " 'Нижегородская область',\n",
       " 'Новгородская область',\n",
       " 'Новосибирская область',\n",
       " 'Омская область',\n",
       " 'Оренбургская область',\n",
       " 'Орловская область',\n",
       " 'Пензенская область',\n",
       " 'Пермский край',\n",
       " 'Приморский край',\n",
       " 'Псковская область',\n",
       " 'Республика Адыгея',\n",
       " 'Республика Алтай (Горный Алтай)',\n",
       " 'Республика Башкортостан',\n",
       " 'Республика Бурятия',\n",
       " 'Республика Дагестан',\n",
       " 'Республика Ингушетия',\n",
       " 'Республика Калмыкия',\n",
       " 'Республика Карачаево-Черкессия',\n",
       " 'Республика Карелия',\n",
       " 'Республика Коми',\n",
       " 'Республика Марий Эл',\n",
       " 'Республика Мордовия',\n",
       " 'Республика Саха (Якутия)',\n",
       " 'Республика Северная Осетия-Алания',\n",
       " 'Республика Татарстан',\n",
       " 'Республика Тыва',\n",
       " 'Республика Хакасия',\n",
       " 'Россия',\n",
       " 'Ростовская область',\n",
       " 'Рязанская область',\n",
       " 'Самарская область',\n",
       " 'Санкт-Петербург',\n",
       " 'Саратовская область',\n",
       " 'Сахалинская область',\n",
       " 'Свердловская область',\n",
       " 'Смоленская область',\n",
       " 'Ставропольский край',\n",
       " 'Тамбовская область',\n",
       " 'Тверская область',\n",
       " 'Томская область',\n",
       " 'Тульская область',\n",
       " 'Тюменская область',\n",
       " 'Удмуртская Республика',\n",
       " 'Ульяновская область',\n",
       " 'Хабаровский край',\n",
       " 'Ханты-Мансийский автономный округ — Югра',\n",
       " 'Челябинская область',\n",
       " 'Чеченская Республика',\n",
       " 'Чувашская Республика',\n",
       " 'Чукотский автономный округ',\n",
       " 'Ямало-Ненецкий автономный округ',\n",
       " 'Ярославская область'}"
      ]
     },
     "execution_count": 22,
     "metadata": {},
     "output_type": "execute_result"
    }
   ],
   "source": [
    "set(df.region)"
   ]
  },
  {
   "cell_type": "code",
   "execution_count": null,
   "metadata": {},
   "outputs": [],
   "source": []
  }
 ],
 "metadata": {
  "kernelspec": {
   "display_name": "Python 3",
   "language": "python",
   "name": "python3"
  },
  "language_info": {
   "codemirror_mode": {
    "name": "ipython",
    "version": 3
   },
   "file_extension": ".py",
   "mimetype": "text/x-python",
   "name": "python",
   "nbconvert_exporter": "python",
   "pygments_lexer": "ipython3",
   "version": "3.7.0"
  }
 },
 "nbformat": 4,
 "nbformat_minor": 2
}
